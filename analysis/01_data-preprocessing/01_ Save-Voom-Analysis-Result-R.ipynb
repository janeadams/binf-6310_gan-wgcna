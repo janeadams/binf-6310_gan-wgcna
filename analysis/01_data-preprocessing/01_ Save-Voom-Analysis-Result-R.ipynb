{
 "cells": [
  {
   "cell_type": "code",
   "execution_count": 2,
   "id": "de4e6555-fa6b-44a0-8e99-38ef192ef672",
   "metadata": {},
   "outputs": [
    {
     "name": "stdout",
     "output_type": "stream",
     "text": [
      "\n",
      "The downloaded binary packages are in\n",
      "\t/var/folders/z_/c467prcj0fg8bs04kw20pzcw0000gn/T//RtmpJ2UKQX/downloaded_packages\n"
     ]
    },
    {
     "name": "stderr",
     "output_type": "stream",
     "text": [
      "'getOption(\"repos\")' replaces Bioconductor standard repositories, see\n",
      "'help(\"repositories\", package = \"BiocManager\")' for details.\n",
      "Replacement repositories:\n",
      "    CRAN: https://cran.r-project.org\n",
      "\n",
      "Bioconductor version 3.20 (BiocManager 1.30.25), R 4.4.2 (2024-10-31)\n",
      "\n",
      "Installing package(s) 'BiocVersion', 'edgeR'\n",
      "\n",
      "also installing the dependencies ‘statmod’, ‘limma’, ‘locfit’\n",
      "\n",
      "\n"
     ]
    },
    {
     "name": "stdout",
     "output_type": "stream",
     "text": [
      "\n",
      "The downloaded binary packages are in\n",
      "\t/var/folders/z_/c467prcj0fg8bs04kw20pzcw0000gn/T//RtmpJ2UKQX/downloaded_packages\n"
     ]
    },
    {
     "name": "stderr",
     "output_type": "stream",
     "text": [
      "Old packages: 'class', 'cluster', 'foreign', 'KernSmooth', 'MASS', 'Matrix',\n",
      "  'nlme', 'nnet', 'rpart', 'spatial', 'survival'\n",
      "\n",
      "'getOption(\"repos\")' replaces Bioconductor standard repositories, see\n",
      "'help(\"repositories\", package = \"BiocManager\")' for details.\n",
      "Replacement repositories:\n",
      "    CRAN: https://cran.r-project.org\n",
      "\n",
      "Bioconductor version 3.20 (BiocManager 1.30.25), R 4.4.2 (2024-10-31)\n",
      "\n",
      "Installing package(s) 'biomaRt'\n",
      "\n",
      "also installing the dependencies ‘zlibbioc’, ‘UCSC.utils’, ‘GenomeInfoDbData’, ‘bit’, ‘cachem’, ‘XVector’, ‘GenomeInfoDb’, ‘sys’, ‘fansi’, ‘bit64’, ‘blob’, ‘memoise’, ‘pkgconfig’, ‘plogr’, ‘cpp11’, ‘png’, ‘Biostrings’, ‘askpass’, ‘purrr’, ‘tibble’, ‘tidyr’, ‘tidyselect’, ‘generics’, ‘mime’, ‘BiocGenerics’, ‘Biobase’, ‘IRanges’, ‘DBI’, ‘RSQLite’, ‘S4Vectors’, ‘KEGGREST’, ‘hms’, ‘prettyunits’, ‘R6’, ‘magrittr’, ‘stringi’, ‘openssl’, ‘withr’, ‘dbplyr’, ‘dplyr’, ‘filelock’, ‘httr’, ‘AnnotationDbi’, ‘progress’, ‘stringr’, ‘httr2’, ‘BiocFileCache’, ‘rappdirs’, ‘xml2’, ‘curl’\n",
      "\n",
      "\n"
     ]
    },
    {
     "name": "stdout",
     "output_type": "stream",
     "text": [
      "\n",
      "The downloaded binary packages are in\n",
      "\t/var/folders/z_/c467prcj0fg8bs04kw20pzcw0000gn/T//RtmpJ2UKQX/downloaded_packages\n"
     ]
    },
    {
     "name": "stderr",
     "output_type": "stream",
     "text": [
      "installing the source package ‘GenomeInfoDbData’\n",
      "\n",
      "\n",
      "Old packages: 'class', 'cluster', 'foreign', 'KernSmooth', 'MASS', 'Matrix',\n",
      "  'nlme', 'nnet', 'rpart', 'spatial', 'survival'\n",
      "\n",
      "Loading required package: limma\n",
      "\n",
      "Warning message in file(file, \"rt\"):\n",
      "“cannot open file 'Datasets/VTA_Count_Dataset.csv': No such file or directory”\n"
     ]
    },
    {
     "ename": "ERROR",
     "evalue": "Error in file(file, \"rt\"): cannot open the connection\n",
     "output_type": "error",
     "traceback": [
      "Error in file(file, \"rt\"): cannot open the connection\nTraceback:\n",
      "1. read.table(file = file, header = header, sep = sep, quote = quote, \n .     dec = dec, fill = fill, comment.char = comment.char, ...)",
      "2. file(file, \"rt\")",
      "3. .handleSimpleError(function (cnd) \n . {\n .     watcher$capture_plot_and_output()\n .     cnd <- sanitize_call(cnd)\n .     watcher$push(cnd)\n .     switch(on_error, continue = invokeRestart(\"eval_continue\"), \n .         stop = invokeRestart(\"eval_stop\"), error = NULL)\n . }, \"cannot open the connection\", base::quote(file(file, \"rt\")))"
     ]
    }
   ],
   "source": [
    "if(0)\"\n",
    "if (!require('BiocManager', quietly = TRUE))\n",
    "    install.packages('BiocManager')\n",
    "\n",
    "BiocManager::install('edgeR')\n",
    "\"\n",
    "\n",
    "install.packages('BiocManager')\n",
    "BiocManager::install('edgeR')\n",
    "BiocManager::install('biomaRt')\n",
    "\n",
    "library(edgeR)\n",
    "library(biomaRt)\n",
    "DATASETS_PATH = \"Datasets/\" # paste(\"Datasets-\",format(Sys.time(), \"%Y%m%d/\"), sep=\"\")\n",
    "RESULT_PATH = \"Results/\" # paste(\"Results-\",format(Sys.time(), \"%Y%m%d/\"), sep=\"\")\n",
    "\n",
    "dir.create(RESULT_PATH)\n",
    "for( region in c(\"VTA\",\"CPU\",\"PFC\",\"HIP\",\"NAC\",\"BLA\") ){\n",
    "    # region = \"VTA\"\n",
    "    counts <- read.csv( paste(DATASETS_PATH, region, \"_Count_Dataset.csv\", sep=\"\") , header = TRUE, row.names = 1)\n",
    "    geneLengths <- read.csv(\"Datasets/geneLengths.csv\",header = TRUE)\n",
    "\n",
    "    total_mapped = colSums(counts)\n",
    "    RPKM_counts = rpkm(counts, geneLengths$length, lib.size=total_mapped) # Get RPKM\n",
    "\n",
    "    snames <- colnames(counts) # Sample names\n",
    "    snames\n",
    "    sa  <- substr(snames, 10, 10)\n",
    "    ch  <- substr(snames, 11, 11)\n",
    "    group <- interaction(sa, ch)\n",
    "    conditions = group\n",
    "\n",
    "    # conditions <- factor(VTA_metatab$group)#factor out the group: it enables to find automatically which group belongs to\n",
    "    test.expression = data.frame(matrix(NA, nrow=nrow(RPKM_counts), ncol=0))\n",
    "\n",
    "    for (i in levels(conditions)) {\n",
    "        RPKM_counts_subset <- RPKM_counts[,conditions==i]\n",
    "        count.by.min <- RPKM_counts_subset >= 1\n",
    "        binary.mat <- as.data.frame(ifelse(count.by.min == \"TRUE\",1,0))\n",
    "\n",
    "        cre.threshold <- floor((80/100)*ncol(RPKM_counts_subset))\n",
    "\n",
    "        filtered = rowSums(binary.mat) >= cre.threshold\n",
    "        test.expression[[i]] <- filtered\n",
    "    }\n",
    "    final.filter <- apply(test.expression,1,any)\n",
    "    filtered.rpkm <- RPKM_counts[final.filter,]\n",
    "\n",
    "    filtered.rownames <- row.names(filtered.rpkm)\n",
    "    counts = counts[filtered.rownames,]\n",
    "    counts.mat <- as.matrix(counts)\n",
    "\n",
    "    # design <- model.matrix(~0+group,VTA_metatab)\n",
    "    design <- model.matrix(~0+group)\n",
    "    #design\n",
    "\n",
    "    cont.matrix <- makeContrasts(CNvSN=groupC.N-groupS.N,\n",
    "                                 SCvSS=groupS.C-groupS.S,\n",
    "                                 CSvSS=groupC.S-groupS.S,\n",
    "                                 CCvSS=groupC.C-groupS.S,\n",
    "                                 levels=design)\n",
    "\n",
    "    voom<-voom(counts.mat,design,plot=TRUE)\n",
    "    write.csv(voom, paste(RESULT_PATH, \"Voom_Result_\", region, \".csv\",sep=\"\"))\n",
    "    fit<-lmFit(voom,design)\n",
    "    vfit <- contrasts.fit(fit, cont.matrix)\n",
    "    efit <- eBayes(vfit)\n",
    "    plotSA(efit)\n",
    "    # For voom-limma\n",
    "    # coefficients=colnames(cont.matrix)\n",
    "    # summarytab <- data.frame()\n",
    "    # for (i in 1:length(coefficients)) {\n",
    "    #     tab <- topTable(efit, number=length(row.names(counts.mat)), coef=i, adjust=\"BH\")\n",
    "    #     # tab <- merge(tab, gene_id_DB, by.x=0, by.y=0)\n",
    "    #     # names(tab)[1]=\"gene_id\"\n",
    "    #     filename = paste(RESULT_PATH, region,\"_\",coefficients[i],\".csv\",sep=\"\")\n",
    "    #     write.table(tab,filename,quote=F,sep = \"\\t\", row.names = T, col.names = T)\n",
    "}"
   ]
  },
  {
   "cell_type": "code",
   "execution_count": 4,
   "id": "07d2861c-7208-47b6-b8a9-4e5563d12252",
   "metadata": {},
   "outputs": [
    {
     "data": {
      "text/html": [
       "FALSE"
      ],
      "text/latex": [
       "FALSE"
      ],
      "text/markdown": [
       "FALSE"
      ],
      "text/plain": [
       "[1] FALSE"
      ]
     },
     "metadata": {},
     "output_type": "display_data"
    }
   ],
   "source": [
    "file.exists(\"Datasets/VTA_Count_Dataset.csv\")"
   ]
  },
  {
   "cell_type": "code",
   "execution_count": null,
   "id": "431872ca-6428-4781-99b7-a28a2c3fe0a5",
   "metadata": {},
   "outputs": [],
   "source": []
  }
 ],
 "metadata": {
  "kernelspec": {
   "display_name": "R",
   "language": "R",
   "name": "ir"
  },
  "language_info": {
   "codemirror_mode": "r",
   "file_extension": ".r",
   "mimetype": "text/x-r-source",
   "name": "R",
   "pygments_lexer": "r",
   "version": "4.4.2"
  }
 },
 "nbformat": 4,
 "nbformat_minor": 5
}
