{
 "cells": [
  {
   "cell_type": "code",
   "execution_count": 2,
   "id": "81d12bb3-be90-4357-b24f-1b5ab0d9c6ff",
   "metadata": {},
   "outputs": [],
   "source": [
    "from datetime import date\n",
    "from os import mkdir, makedirs\n",
    "from tqdm import tqdm\n",
    "import pandas as pd\n",
    "RNASEQ_PIPELINE_RESULTS_PATH = \"../RNASeq_pipeline/Results\" #-%s\" % date.today().strftime(\"%Y%m%d\")\n",
    "DATAPREP_RESULTS_PATH = \"Results\"#-%s\" % date.today().strftime(\"%Y%m%d\")\n",
    "makedirs(DATAPREP_RESULTS_PATH, exist_ok=True)  # adding this from original code to avoid directory issues"
   ]
  },
  {
   "cell_type": "code",
   "execution_count": null,
   "id": "35f427ea-3195-47af-8b56-275a6f73888c",
   "metadata": {},
   "outputs": [],
   "source": [
    "import itertools\n",
    "import numpy as np\n",
    "for region in [\"BLA\", \"CPU\", \"NAC\", \"PFC\", \"HIP\", \"VTA\"]:\n",
    "    Voom_DEG_df = pd.read_csv(RNASEQ_PIPELINE_RESULTS_PATH + \"/Voom_Result_%s.csv\" % region,index_col = 0)\n",
    "    groups = {}\n",
    "    Voom_DEG_df_aug = pd.DataFrame(index=Voom_DEG_df.index)\n",
    "\n",
    "    for col in Voom_DEG_df.columns:\n",
    "        if col[9:11] not in groups.keys():\n",
    "            groups[col[9:11]] = []\n",
    "        groups[col[9:11]].append(col)\n",
    "    com_groups = {}\n",
    "\n",
    "    for key in groups.keys():\n",
    "        com_groups[key] = list(map(','.join, itertools.combinations(groups[key], 2)))\n",
    "    com_groups\n",
    "\n",
    "    for key in com_groups.keys():\n",
    "        for com in com_groups[key]:\n",
    "            for x in np.arange(0.1, 1.0, 0.1):\n",
    "                col_name = \"\"\n",
    "                col_name += \"[\" + region + \"]\"\n",
    "                col_name += \"[\" + key + \"]\"\n",
    "                col_name += \"[\" + com.split(\",\")[0][1:4] + \"-\" + com.split(\",\")[1][1:4] + \"]\"\n",
    "                col_name += \"[\" + str(x)[0:3] + \"]\"\n",
    "                ai1 = float(com.split(\",\")[0][12:])\n",
    "                ai2 = float(com.split(\",\")[1][12:])\n",
    "                if (com.split(\",\")[0][12:] == \"0.0\" or com.split(\",\")[1][12:] == \"0.0\"):\n",
    "                    col_name += \"[None]\"\n",
    "                else:\n",
    "                    ai_aug = str((x * ai1) + ((1.0 - x) * ai2))\n",
    "                    col_name += \"[\" + ai_aug + \"]\"\n",
    "                c = (x * Voom_DEG_df[com.split(\",\")[0]].values) + ((1.0 - x) * Voom_DEG_df[com.split(\",\")[1]].values)\n",
    "                Voom_DEG_df_aug[col_name] = c # / 10.0\n",
    "\n",
    "    for col in Voom_DEG_df.columns:\n",
    "        col_name = \"\"\n",
    "        col_name += \"[\" + col[5:8] + \"]\"\n",
    "        col_name += \"[\" + col[9:11] + \"]\"\n",
    "        col_name += \"[\" + col[1:4] + \"]\"\n",
    "        col_name += \"[1.0]\"\n",
    "        col_name += \"[\" + col[12:] + \"]\"\n",
    "        Voom_DEG_df_aug[col_name] = Voom_DEG_df[col]\n",
    "                \n",
    "    Voom_DEG_df_aug.to_csv(DATAPREP_RESULTS_PATH + \"/%s_Voom_Augmented_Result.csv\" % region)"
   ]
  }
 ],
 "metadata": {
  "kernelspec": {
   "display_name": "Python [conda env:base] *",
   "language": "python",
   "name": "conda-base-py"
  },
  "language_info": {
   "codemirror_mode": {
    "name": "ipython",
    "version": 3
   },
   "file_extension": ".py",
   "mimetype": "text/x-python",
   "name": "python",
   "nbconvert_exporter": "python",
   "pygments_lexer": "ipython3",
   "version": "3.12.7"
  }
 },
 "nbformat": 4,
 "nbformat_minor": 5
}
