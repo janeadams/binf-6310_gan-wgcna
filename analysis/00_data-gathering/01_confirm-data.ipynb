{
 "cells": [
  {
   "cell_type": "code",
   "execution_count": 3,
   "metadata": {},
   "outputs": [],
   "source": [
    "import os\n",
    "import requests\n",
    "import pandas as pd"
   ]
  },
  {
   "cell_type": "code",
   "execution_count": 4,
   "metadata": {},
   "outputs": [],
   "source": [
    "DATASETS_FOLDER_PATH = \"../../data/00_data-gathering\""
   ]
  },
  {
   "cell_type": "code",
   "execution_count": 10,
   "metadata": {},
   "outputs": [
    {
     "name": "stdout",
     "output_type": "stream",
     "text": [
      "Couldn't find downloaded_data.csv at remote URL\n",
      "Couldn't find metadata.csv at remote URL\n",
      "Couldn't find behavioral_index_data.csv at remote URL\n",
      "Files ../../data/00_data-gathering/PFC_Count_Dataset.csv and https://media.githubusercontent.com/media/baicalin/GAN-WGCNA/refs/heads/main/codes/RNASeq_pipeline/Datasets/PFC_Count_Dataset.csv are the same\n",
      "Files ../../data/00_data-gathering/VTA_Count_Dataset.csv and https://media.githubusercontent.com/media/baicalin/GAN-WGCNA/refs/heads/main/codes/RNASeq_pipeline/Datasets/VTA_Count_Dataset.csv are the same\n",
      "Files ../../data/00_data-gathering/Total_Conditions_Counts_with_AI.csv and https://media.githubusercontent.com/media/baicalin/GAN-WGCNA/refs/heads/main/codes/RNASeq_pipeline/Datasets/Total_Conditions_Counts_with_AI.csv are the same\n",
      "Files ../../data/00_data-gathering/CPU_Count_Dataset.csv and https://media.githubusercontent.com/media/baicalin/GAN-WGCNA/refs/heads/main/codes/RNASeq_pipeline/Datasets/CPU_Count_Dataset.csv are the same\n",
      "Files ../../data/00_data-gathering/HIP_Count_Dataset.csv and https://media.githubusercontent.com/media/baicalin/GAN-WGCNA/refs/heads/main/codes/RNASeq_pipeline/Datasets/HIP_Count_Dataset.csv are the same\n",
      "Files ../../data/00_data-gathering/BLA_Count_Dataset.csv and https://media.githubusercontent.com/media/baicalin/GAN-WGCNA/refs/heads/main/codes/RNASeq_pipeline/Datasets/BLA_Count_Dataset.csv are the same\n",
      "Files ../../data/00_data-gathering/NAC_Count_Dataset.csv and https://media.githubusercontent.com/media/baicalin/GAN-WGCNA/refs/heads/main/codes/RNASeq_pipeline/Datasets/NAC_Count_Dataset.csv are the same\n"
     ]
    }
   ],
   "source": [
    "files = []\n",
    "\n",
    "for dirpath, dnames, fnames in os.walk(DATASETS_FOLDER_PATH):\n",
    "\n",
    "    for f in fnames:\n",
    "\n",
    "        file_info = {\n",
    "            \"local\": os.path.join(dirpath, f)\n",
    "        }\n",
    "        \n",
    "        if f.endswith(\".csv\"):\n",
    "            remote = os.path.join(\"https://media.githubusercontent.com/media/baicalin/GAN-WGCNA/refs/heads/main/codes/RNASeq_pipeline/Datasets/\", f)\n",
    "\n",
    "            file_info[\"remote\"] = remote\n",
    "            file_info[\"local_df\"] = pd.read_csv(file_info[\"local\"])\n",
    "            try:\n",
    "                file_info[\"remote_df\"] = pd.read_csv(remote)\n",
    "            except:\n",
    "                print(f\"Couldn't find {f} at remote URL\")  \n",
    "                continue\n",
    "            files.append(file_info)\n",
    "\n",
    "for file in files:\n",
    "    if not file[\"local_df\"].equals(file[\"remote_df\"]):\n",
    "        print(f\"Files {file['local']} and {file['remote']} are different\")\n",
    "    else:\n",
    "        print(f\"Files {file['local']} and {file['remote']} are the same\")\n"
   ]
  }
 ],
 "metadata": {
  "kernelspec": {
   "display_name": ".venv",
   "language": "python",
   "name": "python3"
  },
  "language_info": {
   "codemirror_mode": {
    "name": "ipython",
    "version": 3
   },
   "file_extension": ".py",
   "mimetype": "text/x-python",
   "name": "python",
   "nbconvert_exporter": "python",
   "pygments_lexer": "ipython3",
   "version": "3.12.6"
  }
 },
 "nbformat": 4,
 "nbformat_minor": 2
}
